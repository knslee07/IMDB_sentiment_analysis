{
 "cells": [
  {
   "cell_type": "markdown",
   "id": "d119999b",
   "metadata": {},
   "source": [
    "# Transformers"
   ]
  },
  {
   "cell_type": "code",
   "execution_count": 1,
   "id": "c532442d",
   "metadata": {},
   "outputs": [],
   "source": [
    "import transformers\n",
    "import torch \n",
    "from datasets import load_dataset\n",
    "from transformers import AutoTokenizer, AutoModelForSequenceClassification, AdamW\n",
    "from transformers import TrainingArguments, Trainer\n",
    "import pandas as pd"
   ]
  },
  {
   "cell_type": "code",
   "execution_count": 2,
   "id": "9036fc87",
   "metadata": {},
   "outputs": [
    {
     "data": {
      "text/plain": [
       "DatasetDict({\n",
       "    train: Dataset({\n",
       "        features: ['review', 'sentiment'],\n",
       "        num_rows: 50000\n",
       "    })\n",
       "})"
      ]
     },
     "execution_count": 2,
     "metadata": {},
     "output_type": "execute_result"
    }
   ],
   "source": [
    "# load dataset\n",
    "dataset = load_dataset(\"csv\", data_files=\"IMDB Dataset.csv\") #, split=\"train[50%:52%]\")\n",
    "dataset"
   ]
  },
  {
   "cell_type": "code",
   "execution_count": 3,
   "id": "f7ce23ff",
   "metadata": {},
   "outputs": [
    {
     "data": {
      "text/plain": [
       "{'review': \"One of the other reviewers has mentioned that after watching just 1 Oz episode you'll be hooked. They are right, as this is exactly what happened with me.<br /><br />The first thing that struck me about Oz was its brutality and unflinching scenes of violence, which set in right from the word GO. Trust me, this is not a show for the faint hearted or timid. This show pulls no punches with regards to drugs, sex or violence. Its is hardcore, in the classic use of the word.<br /><br />It is called OZ as that is the nickname given to the Oswald Maximum Security State Penitentary. It focuses mainly on Emerald City, an experimental section of the prison where all the cells have glass fronts and face inwards, so privacy is not high on the agenda. Em City is home to many..Aryans, Muslims, gangstas, Latinos, Christians, Italians, Irish and more....so scuffles, death stares, dodgy dealings and shady agreements are never far away.<br /><br />I would say the main appeal of the show is due to the fact that it goes where other shows wouldn't dare. Forget pretty pictures painted for mainstream audiences, forget charm, forget romance...OZ doesn't mess around. The first episode I ever saw struck me as so nasty it was surreal, I couldn't say I was ready for it, but as I watched more, I developed a taste for Oz, and got accustomed to the high levels of graphic violence. Not just violence, but injustice (crooked guards who'll be sold out for a nickel, inmates who'll kill on order and get away with it, well mannered, middle class inmates being turned into prison bitches due to their lack of street skills or prison experience) Watching Oz, you may become comfortable with what is uncomfortable viewing....thats if you can get in touch with your darker side.\",\n",
       " 'sentiment': 'positive'}"
      ]
     },
     "execution_count": 3,
     "metadata": {},
     "output_type": "execute_result"
    }
   ],
   "source": [
    "dataset['train'][0]"
   ]
  },
  {
   "cell_type": "markdown",
   "id": "ab461f19",
   "metadata": {},
   "source": [
    "## column operation"
   ]
  },
  {
   "cell_type": "code",
   "execution_count": 4,
   "id": "ecb47c70",
   "metadata": {},
   "outputs": [
    {
     "data": {
      "application/vnd.jupyter.widget-view+json": {
       "model_id": "3465ee7091774ec7a3a5e847de88f04f",
       "version_major": 2,
       "version_minor": 0
      },
      "text/plain": [
       "Map:   0%|          | 0/50000 [00:00<?, ? examples/s]"
      ]
     },
     "metadata": {},
     "output_type": "display_data"
    },
    {
     "data": {
      "text/plain": [
       "{'train': 50000}"
      ]
     },
     "execution_count": 4,
     "metadata": {},
     "output_type": "execute_result"
    }
   ],
   "source": [
    "def replace_sentiment(example):\n",
    "    return {\"labels\": 1 if example['sentiment']=='positive' else 0}\n",
    "dataset=dataset.map(replace_sentiment)\n",
    "dataset=dataset.remove_columns(['sentiment'])\n",
    "dataset.num_rows"
   ]
  },
  {
   "cell_type": "code",
   "execution_count": 5,
   "id": "60a32f3d",
   "metadata": {},
   "outputs": [
    {
     "data": {
      "text/plain": [
       "DatasetDict({\n",
       "    train: Dataset({\n",
       "        features: ['review', 'labels'],\n",
       "        num_rows: 50000\n",
       "    })\n",
       "})"
      ]
     },
     "execution_count": 5,
     "metadata": {},
     "output_type": "execute_result"
    }
   ],
   "source": [
    "dataset"
   ]
  },
  {
   "cell_type": "markdown",
   "id": "a262f6f2",
   "metadata": {},
   "source": [
    "## alternative: use pandas "
   ]
  },
  {
   "cell_type": "code",
   "execution_count": 35,
   "id": "61f5d509",
   "metadata": {},
   "outputs": [],
   "source": [
    "# load to pandas\n",
    "df = pd.read_csv('IMDB Dataset.csv')\n",
    "#replace sentiment\n",
    "df['sentiment_n'] = df['sentiment'].replace({'negative': 0, 'positive': 1})\n",
    "#df['sentiment_n'].value_counts()\n",
    "\n",
    "#drop column \n",
    "df=df.drop(['sentiment'], axis=1)\n",
    "\n",
    "# to pickle\n",
    "df.to_pickle('imdb.pkl')"
   ]
  },
  {
   "cell_type": "code",
   "execution_count": 33,
   "id": "4aa8271f",
   "metadata": {},
   "outputs": [
    {
     "data": {
      "text/html": [
       "<div>\n",
       "<style scoped>\n",
       "    .dataframe tbody tr th:only-of-type {\n",
       "        vertical-align: middle;\n",
       "    }\n",
       "\n",
       "    .dataframe tbody tr th {\n",
       "        vertical-align: top;\n",
       "    }\n",
       "\n",
       "    .dataframe thead th {\n",
       "        text-align: right;\n",
       "    }\n",
       "</style>\n",
       "<table border=\"1\" class=\"dataframe\">\n",
       "  <thead>\n",
       "    <tr style=\"text-align: right;\">\n",
       "      <th></th>\n",
       "      <th>review</th>\n",
       "      <th>sentiment_n</th>\n",
       "    </tr>\n",
       "  </thead>\n",
       "  <tbody>\n",
       "    <tr>\n",
       "      <th>0</th>\n",
       "      <td>On the surface, this movie would appear to dea...</td>\n",
       "      <td>0</td>\n",
       "    </tr>\n",
       "    <tr>\n",
       "      <th>1</th>\n",
       "      <td>Legendary director Sidney Lumet gives us one o...</td>\n",
       "      <td>1</td>\n",
       "    </tr>\n",
       "    <tr>\n",
       "      <th>2</th>\n",
       "      <td>This game is the bomb and this is the 007 game...</td>\n",
       "      <td>1</td>\n",
       "    </tr>\n",
       "    <tr>\n",
       "      <th>3</th>\n",
       "      <td>I enjoyed this film. I thought it was an excel...</td>\n",
       "      <td>1</td>\n",
       "    </tr>\n",
       "    <tr>\n",
       "      <th>4</th>\n",
       "      <td>This is one of the best horror movies i've see...</td>\n",
       "      <td>1</td>\n",
       "    </tr>\n",
       "    <tr>\n",
       "      <th>...</th>\n",
       "      <td>...</td>\n",
       "      <td>...</td>\n",
       "    </tr>\n",
       "    <tr>\n",
       "      <th>39995</th>\n",
       "      <td>This was quite possibly the worst movie I have...</td>\n",
       "      <td>0</td>\n",
       "    </tr>\n",
       "    <tr>\n",
       "      <th>39996</th>\n",
       "      <td>\"The Good Earth\" is a great movie that you don...</td>\n",
       "      <td>1</td>\n",
       "    </tr>\n",
       "    <tr>\n",
       "      <th>39997</th>\n",
       "      <td>Dialogue: stilted, clichéd; Acting: hammy, cli...</td>\n",
       "      <td>0</td>\n",
       "    </tr>\n",
       "    <tr>\n",
       "      <th>39998</th>\n",
       "      <td>Fay Grim is, on its face, a tale of espionage ...</td>\n",
       "      <td>1</td>\n",
       "    </tr>\n",
       "    <tr>\n",
       "      <th>39999</th>\n",
       "      <td>John Travolta, the biggest honkeytonk in the w...</td>\n",
       "      <td>1</td>\n",
       "    </tr>\n",
       "  </tbody>\n",
       "</table>\n",
       "<p>40000 rows × 2 columns</p>\n",
       "</div>"
      ],
      "text/plain": [
       "                                                  review  sentiment_n\n",
       "0      On the surface, this movie would appear to dea...            0\n",
       "1      Legendary director Sidney Lumet gives us one o...            1\n",
       "2      This game is the bomb and this is the 007 game...            1\n",
       "3      I enjoyed this film. I thought it was an excel...            1\n",
       "4      This is one of the best horror movies i've see...            1\n",
       "...                                                  ...          ...\n",
       "39995  This was quite possibly the worst movie I have...            0\n",
       "39996  \"The Good Earth\" is a great movie that you don...            1\n",
       "39997  Dialogue: stilted, clichéd; Acting: hammy, cli...            0\n",
       "39998  Fay Grim is, on its face, a tale of espionage ...            1\n",
       "39999  John Travolta, the biggest honkeytonk in the w...            1\n",
       "\n",
       "[40000 rows x 2 columns]"
      ]
     },
     "execution_count": 33,
     "metadata": {},
     "output_type": "execute_result"
    }
   ],
   "source": [
    "train_df = df.sample(frac=.8, random_state=16).reset_index(drop=True)\n",
    "X_train, y_train = train_df['review'], train_df['sentiment_n']\n",
    "\n",
    "test_df = df.drop(train_df.index).reset_index(drop=True)\n",
    "X_test, y_test = test_df['review'], test_df['sentiment_n']\n",
    "train_df"
   ]
  },
  {
   "cell_type": "code",
   "execution_count": 36,
   "id": "c18e0277",
   "metadata": {},
   "outputs": [
    {
     "data": {
      "application/vnd.jupyter.widget-view+json": {
       "model_id": "be66ba3b17da4475b4c9d852dd5a0b4b",
       "version_major": 2,
       "version_minor": 0
      },
      "text/plain": [
       "Downloading data files:   0%|          | 0/1 [00:00<?, ?it/s]"
      ]
     },
     "metadata": {},
     "output_type": "display_data"
    },
    {
     "data": {
      "application/vnd.jupyter.widget-view+json": {
       "model_id": "2ecd94945daf497ab61bf7c34ad191af",
       "version_major": 2,
       "version_minor": 0
      },
      "text/plain": [
       "Extracting data files:   0%|          | 0/1 [00:00<?, ?it/s]"
      ]
     },
     "metadata": {},
     "output_type": "display_data"
    },
    {
     "data": {
      "application/vnd.jupyter.widget-view+json": {
       "model_id": "070a212f878d46cabe804755fdd60443",
       "version_major": 2,
       "version_minor": 0
      },
      "text/plain": [
       "Generating train split: 0 examples [00:00, ? examples/s]"
      ]
     },
     "metadata": {},
     "output_type": "display_data"
    },
    {
     "name": "stderr",
     "output_type": "stream",
     "text": [
      "c:\\Users\\KWan\\anaconda3\\envs\\llmw\\Lib\\site-packages\\pyarrow\\pandas_compat.py:373: FutureWarning: is_sparse is deprecated and will be removed in a future version. Check `isinstance(dtype, pd.SparseDtype)` instead.\n",
      "  if _pandas_api.is_sparse(col):\n"
     ]
    }
   ],
   "source": [
    "dataset=load_dataset(\"pandas\", data_files=\"imdb.pkl\")"
   ]
  },
  {
   "cell_type": "markdown",
   "id": "0c4024a7",
   "metadata": {},
   "source": [
    "## Load a pre-trained DistilBERT model"
   ]
  },
  {
   "cell_type": "code",
   "execution_count": 6,
   "id": "3d6c0566",
   "metadata": {},
   "outputs": [
    {
     "data": {
      "application/vnd.jupyter.widget-view+json": {
       "model_id": "8a250b0671774b12b98ef3f1937ee62f",
       "version_major": 2,
       "version_minor": 0
      },
      "text/plain": [
       "Map:   0%|          | 0/50000 [00:00<?, ? examples/s]"
      ]
     },
     "metadata": {},
     "output_type": "display_data"
    },
    {
     "data": {
      "text/plain": [
       "Dataset({\n",
       "    features: ['review', 'labels', 'input_ids', 'token_type_ids', 'attention_mask'],\n",
       "    num_rows: 10000\n",
       "})"
      ]
     },
     "execution_count": 6,
     "metadata": {},
     "output_type": "execute_result"
    }
   ],
   "source": [
    "device=\"cuda\" if torch.cuda.is_available() else \"cpu\"\n",
    "model_chkpt=\"google/electra-small-discriminator\"#'distilbert-base-uncased'\n",
    "\n",
    "# Load a tokenizer\n",
    "tokenizer = AutoTokenizer.from_pretrained(model_chkpt)\n",
    "\n",
    "# Function to tokenize the dataset\n",
    "def tokenize_function(examples):\n",
    "    return tokenizer(examples[\"review\"], padding=\"max_length\", truncation=True, return_tensors='pt')\n",
    "\n",
    "tokenized_dataset = dataset.map(tokenize_function, batched=True)\n",
    "train_dataset=tokenized_dataset['train'].shuffle(seed=16).select(range(40000))\n",
    "test_dataset=tokenized_dataset['train'].shuffle(seed=16).select(range(40000, 50000))\n",
    "test_dataset"
   ]
  },
  {
   "cell_type": "code",
   "execution_count": 7,
   "id": "7bd0cb8d",
   "metadata": {},
   "outputs": [
    {
     "data": {
      "text/plain": [
       "Dataset({\n",
       "    features: ['review', 'labels', 'input_ids', 'token_type_ids', 'attention_mask'],\n",
       "    num_rows: 40000\n",
       "})"
      ]
     },
     "execution_count": 7,
     "metadata": {},
     "output_type": "execute_result"
    }
   ],
   "source": [
    "train_dataset"
   ]
  },
  {
   "cell_type": "code",
   "execution_count": 85,
   "id": "41e4faa3",
   "metadata": {},
   "outputs": [],
   "source": [
    "#sentiment_n=[lambda x: 1 if x==\"positive\" else 0 for x in train_dataset['sentiment']]\n",
    "#train_dataset.add_column(\"sentiment_n\", sentiment_n)\n",
    "#train_dataset['sentiment_n']=train_dataset['sentiment'].apply(lambda x: 1 if x==\"positive\" else 0)"
   ]
  },
  {
   "cell_type": "code",
   "execution_count": 8,
   "metadata": {},
   "outputs": [
    {
     "name": "stderr",
     "output_type": "stream",
     "text": [
      "Some weights of ElectraForSequenceClassification were not initialized from the model checkpoint at google/electra-small-discriminator and are newly initialized: ['classifier.dense.bias', 'classifier.out_proj.bias', 'classifier.out_proj.weight', 'classifier.dense.weight']\n",
      "You should probably TRAIN this model on a down-stream task to be able to use it for predictions and inference.\n"
     ]
    }
   ],
   "source": [
    "model = AutoModelForSequenceClassification.from_pretrained(model_chkpt, num_labels=2).to(device)"
   ]
  },
  {
   "cell_type": "code",
   "execution_count": 9,
   "id": "10008505",
   "metadata": {},
   "outputs": [],
   "source": [
    "import numpy as np\n",
    "from sklearn.metrics import accuracy_score, f1_score\n",
    "\n",
    "def compute_metrics(pred):\n",
    "    labels = pred.label_ids\n",
    "    # The pred object passed to compute_metrics by the Trainer is typically a named tuple with two attributes: \n",
    "    # predictions and label_ids.\n",
    "    preds = pred.predictions.argmax(-1)\n",
    "    # You're using argmax(-1) on pred.predictions to get the index of the highest value in the logits, \n",
    "    # which is standard for classification tasks. \n",
    "    f1 = f1_score(labels, preds, average=\"weighted\")\n",
    "    acc = accuracy_score(labels, preds)\n",
    "    return {\"accuracy\": acc, \"f1\": f1}\n",
    "\n",
    "# below uses evaluate\n",
    "#import evaluate\n",
    "#metric = evaluate.load(\"accuracy\", 'f1')\n",
    "#def compute_metrics(pred):\n",
    "#    logits, labels = pred\n",
    "#    predictions = np.argmax(logits, axis=-1)\n",
    "#    return metric.compute(predictions=predictions, references=labels)"
   ]
  },
  {
   "cell_type": "code",
   "execution_count": 10,
   "id": "b664ab19",
   "metadata": {},
   "outputs": [
    {
     "data": {
      "application/vnd.jupyter.widget-view+json": {
       "model_id": "6a2a4762f75c4911ad7e014a63ccb322",
       "version_major": 2,
       "version_minor": 0
      },
      "text/plain": [
       "  0%|          | 0/2502 [00:00<?, ?it/s]"
      ]
     },
     "metadata": {},
     "output_type": "display_data"
    },
    {
     "name": "stderr",
     "output_type": "stream",
     "text": [
      "You're using a ElectraTokenizerFast tokenizer. Please note that with a fast tokenizer, using the `__call__` method is faster than using a method to encode the text followed by a call to the `pad` method to get a padded encoding.\n"
     ]
    },
    {
     "name": "stdout",
     "output_type": "stream",
     "text": [
      "{'loss': 0.3176, 'learning_rate': 0.00016003197442046363, 'epoch': 0.6}\n"
     ]
    },
    {
     "data": {
      "application/vnd.jupyter.widget-view+json": {
       "model_id": "e3872b6c76ce42d6ab6434dbb84f9fff",
       "version_major": 2,
       "version_minor": 0
      },
      "text/plain": [
       "  0%|          | 0/157 [00:00<?, ?it/s]"
      ]
     },
     "metadata": {},
     "output_type": "display_data"
    },
    {
     "name": "stdout",
     "output_type": "stream",
     "text": [
      "{'eval_loss': 0.20020700991153717, 'eval_accuracy': 0.9228, 'eval_f1': 0.9228027422071804, 'eval_runtime': 865.6671, 'eval_samples_per_second': 11.552, 'eval_steps_per_second': 0.181, 'epoch': 1.0}\n",
      "{'loss': 0.2058, 'learning_rate': 0.00012006394884092726, 'epoch': 1.2}\n",
      "{'loss': 0.1522, 'learning_rate': 8.00959232613909e-05, 'epoch': 1.8}\n"
     ]
    },
    {
     "data": {
      "application/vnd.jupyter.widget-view+json": {
       "model_id": "b4f2ba308e504ce193b87ec3e62fd6e4",
       "version_major": 2,
       "version_minor": 0
      },
      "text/plain": [
       "  0%|          | 0/157 [00:00<?, ?it/s]"
      ]
     },
     "metadata": {},
     "output_type": "display_data"
    },
    {
     "name": "stdout",
     "output_type": "stream",
     "text": [
      "{'eval_loss': 0.2017057090997696, 'eval_accuracy': 0.9281, 'eval_f1': 0.9280509808842189, 'eval_runtime': 861.7957, 'eval_samples_per_second': 11.604, 'eval_steps_per_second': 0.182, 'epoch': 2.0}\n",
      "{'loss': 0.1052, 'learning_rate': 4.012789768185452e-05, 'epoch': 2.4}\n",
      "{'loss': 0.073, 'learning_rate': 1.5987210231814549e-07, 'epoch': 3.0}\n"
     ]
    },
    {
     "data": {
      "application/vnd.jupyter.widget-view+json": {
       "model_id": "b5a6ae4dd17a4c50bae76edab9510e58",
       "version_major": 2,
       "version_minor": 0
      },
      "text/plain": [
       "  0%|          | 0/157 [00:00<?, ?it/s]"
      ]
     },
     "metadata": {},
     "output_type": "display_data"
    },
    {
     "name": "stdout",
     "output_type": "stream",
     "text": [
      "{'eval_loss': 0.2403365522623062, 'eval_accuracy': 0.9314, 'eval_f1': 0.9313986938534399, 'eval_runtime': 861.9083, 'eval_samples_per_second': 11.602, 'eval_steps_per_second': 0.182, 'epoch': 3.0}\n",
      "{'train_runtime': 28409.626, 'train_samples_per_second': 4.224, 'train_steps_per_second': 0.088, 'train_loss': 0.1706288747554965, 'epoch': 3.0}\n"
     ]
    },
    {
     "data": {
      "text/plain": [
       "TrainOutput(global_step=2502, training_loss=0.1706288747554965, metrics={'train_runtime': 28409.626, 'train_samples_per_second': 4.224, 'train_steps_per_second': 0.088, 'train_loss': 0.1706288747554965, 'epoch': 3.0})"
      ]
     },
     "execution_count": 10,
     "metadata": {},
     "output_type": "execute_result"
    }
   ],
   "source": [
    "# Define training arguments\n",
    "training_args = TrainingArguments(\n",
    "    output_dir='./IMDB_sentiment_ELECTRA-small',          \n",
    "    num_train_epochs=3,              \n",
    "    learning_rate=2e-4,\n",
    "    per_device_train_batch_size=48,  \n",
    "    per_device_eval_batch_size=64,\n",
    "    evaluation_strategy='epoch'  \n",
    "    #warmup_steps=500,                \n",
    "    #weight_decay=0.01,               \n",
    "    #logging_dir='./logs',            \n",
    "    #logging_steps=10,\n",
    ")\n",
    "# Initialize the Trainer\n",
    "trainer = Trainer(\n",
    "    model=model,                         \n",
    "    args=training_args,                  \n",
    "    train_dataset=train_dataset,         \n",
    "    eval_dataset=test_dataset,\n",
    "    compute_metrics=compute_metrics,\n",
    "    tokenizer=tokenizer,\n",
    "   #label_names=['labels']\n",
    "               \n",
    ")\n",
    "# Train the model\n",
    "trainer.train()"
   ]
  },
  {
   "cell_type": "markdown",
   "id": "a0fa1269",
   "metadata": {},
   "source": [
    "#### push to HF_hub"
   ]
  },
  {
   "cell_type": "code",
   "execution_count": 11,
   "id": "f62ac58e",
   "metadata": {},
   "outputs": [
    {
     "data": {
      "application/vnd.jupyter.widget-view+json": {
       "model_id": "90329a550d9a44a298371cc86e475533",
       "version_major": 2,
       "version_minor": 0
      },
      "text/plain": [
       "VBox(children=(HTML(value='<center> <img\\nsrc=https://huggingface.co/front/assets/huggingface_logo-noborder.sv…"
      ]
     },
     "metadata": {},
     "output_type": "display_data"
    }
   ],
   "source": [
    "from huggingface_hub import notebook_login\n",
    "\n",
    "notebook_login()"
   ]
  },
  {
   "cell_type": "code",
   "execution_count": 12,
   "id": "8f4d6b5c",
   "metadata": {},
   "outputs": [
    {
     "data": {
      "application/vnd.jupyter.widget-view+json": {
       "model_id": "7e28e33163424eebb002c93fd2c9f5b4",
       "version_major": 2,
       "version_minor": 0
      },
      "text/plain": [
       "training_args.bin:   0%|          | 0.00/4.54k [00:00<?, ?B/s]"
      ]
     },
     "metadata": {},
     "output_type": "display_data"
    },
    {
     "data": {
      "application/vnd.jupyter.widget-view+json": {
       "model_id": "e15ad141177b44b69683840f4f1451f7",
       "version_major": 2,
       "version_minor": 0
      },
      "text/plain": [
       "Upload 2 LFS files:   0%|          | 0/2 [00:00<?, ?it/s]"
      ]
     },
     "metadata": {},
     "output_type": "display_data"
    },
    {
     "data": {
      "application/vnd.jupyter.widget-view+json": {
       "model_id": "db4a044a220b4263b9f3f0c9804b2d44",
       "version_major": 2,
       "version_minor": 0
      },
      "text/plain": [
       "model.safetensors:   0%|          | 0.00/54.2M [00:00<?, ?B/s]"
      ]
     },
     "metadata": {},
     "output_type": "display_data"
    },
    {
     "data": {
      "text/plain": [
       "'https://huggingface.co/knslee07/HF_results/tree/main/'"
      ]
     },
     "execution_count": 12,
     "metadata": {},
     "output_type": "execute_result"
    }
   ],
   "source": [
    "#hide_output\n",
    "trainer.push_to_hub(commit_message=\"accuracy over 93% for IMDB sentiment analysis with ELECTRA-small\")"
   ]
  },
  {
   "cell_type": "markdown",
   "id": "632e7daf",
   "metadata": {},
   "source": [
    "The weights can be downloaded at https://huggingface.co/knslee07/IMDB_sentiment_ELECTRA-small"
   ]
  }
 ],
 "metadata": {
  "kernelspec": {
   "display_name": "Python 3 (ipykernel)",
   "language": "python",
   "name": "python3"
  },
  "language_info": {
   "codemirror_mode": {
    "name": "ipython",
    "version": 3
   },
   "file_extension": ".py",
   "mimetype": "text/x-python",
   "name": "python",
   "nbconvert_exporter": "python",
   "pygments_lexer": "ipython3",
   "version": "3.11.5"
  }
 },
 "nbformat": 4,
 "nbformat_minor": 5
}
